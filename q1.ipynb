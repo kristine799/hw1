Pkg.add("DataFrames")
Pkg.add("Gadfly")
Pkg.add("Plots.jl")
